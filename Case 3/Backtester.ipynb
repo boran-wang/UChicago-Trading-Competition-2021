{
 "metadata": {
  "language_info": {
   "codemirror_mode": {
    "name": "ipython",
    "version": 3
   },
   "file_extension": ".py",
   "mimetype": "text/x-python",
   "name": "python",
   "nbconvert_exporter": "python",
   "pygments_lexer": "ipython3",
   "version": "3.9.2-final"
  },
  "orig_nbformat": 2,
  "kernelspec": {
   "name": "python392jvsc74a57bd0c9e859458852c6c1596a71fb0d8619189d17d1720b197a6c3975aae5c44a7e5f",
   "display_name": "Python 3.9.2 64-bit"
  },
  "metadata": {
   "interpreter": {
    "hash": "c9e859458852c6c1596a71fb0d8619189d17d1720b197a6c3975aae5c44a7e5f"
   }
  }
 },
 "nbformat": 4,
 "nbformat_minor": 2,
 "cells": [
  {
   "cell_type": "code",
   "execution_count": 4,
   "metadata": {},
   "outputs": [],
   "source": [
    "import numpy as np\n",
    "import pandas as pd"
   ]
  },
  {
   "cell_type": "code",
   "execution_count": 5,
   "metadata": {},
   "outputs": [],
   "source": [
    "def allocate_portfolio(asset_prices):\n",
    "    \n",
    "    # This simple strategy equally weights all assets every period\n",
    "    # (called a 1/n strategy).\n",
    "    \n",
    "    n_assets = len(asset_prices)\n",
    "    weights = np.repeat(1 / n_assets, n_assets)\n",
    "    return weights"
   ]
  },
  {
   "cell_type": "code",
   "execution_count": 8,
   "metadata": {},
   "outputs": [],
   "source": [
    "future_prices = pd.read_csv('Case3HistoricalPrices.csv',index_col=0)[:50]"
   ]
  },
  {
   "cell_type": "code",
   "execution_count": 9,
   "metadata": {},
   "outputs": [],
   "source": [
    "def compute_sharpe(future_prices):\n",
    "    '''\n",
    "    given a dataframe of future prices, compute the sharpe ratio over that interval\n",
    "    Input:\n",
    "        - future_prices: a dataframe of future prices\n",
    "    Output:\n",
    "        - sharpe ratio over the period covered in future_prices using the allocate_portfolio function\n",
    "    '''\n",
    "    #obtain list of time periods\n",
    "    time_steps = future_prices.index\n",
    "\n",
    "    #copy the table\n",
    "    res = future_prices.copy(deep=True)\n",
    "    res.columns = [asset+' Price' for asset in future_prices.columns]\n",
    "\n",
    "    #add columns for weights to the table\n",
    "    temp = pd.DataFrame()\n",
    "    \n",
    "    for time_step in time_steps:\n",
    "        future_price = res.loc[time_step]\n",
    "        temp = temp.append(pd.Series(allocate_portfolio(future_price)),ignore_index=True)\n",
    "\n",
    "    temp.columns = [asset+' Weight' for asset in future_prices.columns]\n",
    "    temp.index = time_steps\n",
    "    res = pd.merge(res,temp,left_index=True, right_index=True)\n",
    "\n",
    "    #compute PnL & Value held for each asset\n",
    "    for asset in future_prices.columns:\n",
    "        transaction_cost = (res[asset+' Weight']-res[asset+' Weight'].shift()).abs()*res[asset+' Price']*0.003\n",
    "        res[asset+' PnL'] = (res[asset+' Price']-res[asset+' Price'].shift())*res[asset+' Weight'].shift() - transaction_cost\n",
    "        res[asset+' Value'] = res[asset+' Weight']*res[asset+' Price']\n",
    "\n",
    "    #compute Portfolio PnL\n",
    "    res['Total PnL'] = res[[column for column in res.columns if 'PnL' in column]].sum(axis=1)\n",
    "\n",
    "    #compute Portfolio Value\n",
    "    res['Total Value'] = res[[column for column in res.columns if 'Value' in column]].sum(axis=1)\n",
    "\n",
    "    #compute Returns\n",
    "    res['Returns'] = res['Total PnL']/res['Total Value'].shift()\n",
    "\n",
    "    #compute Sharpe\n",
    "    return res['Returns'].dropna().mean()/res['Returns'].dropna().std()"
   ]
  },
  {
   "cell_type": "code",
   "execution_count": 10,
   "metadata": {},
   "outputs": [
    {
     "output_type": "execute_result",
     "data": {
      "text/plain": [
       "0.024487086434376148"
      ]
     },
     "metadata": {},
     "execution_count": 10
    }
   ],
   "source": [
    "compute_sharpe(future_prices)"
   ]
  },
  {
   "cell_type": "code",
   "execution_count": null,
   "metadata": {},
   "outputs": [],
   "source": []
  }
 ]
}